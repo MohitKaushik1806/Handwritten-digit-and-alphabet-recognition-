{
 "cells": [
  {
   "cell_type": "markdown",
   "id": "realistic-introduction",
   "metadata": {},
   "source": [
    "# Training Random Forest Model to Compare it with CNN"
   ]
  },
  {
   "cell_type": "code",
   "execution_count": 1,
   "id": "practical-wells",
   "metadata": {},
   "outputs": [],
   "source": [
    "import pandas as pd\n",
    "import numpy as np\n",
    "from sklearn.model_selection import train_test_split"
   ]
  },
  {
   "cell_type": "code",
   "execution_count": 2,
   "id": "inside-replication",
   "metadata": {},
   "outputs": [],
   "source": [
    "def read_data(path):\n",
    "    data = []\n",
    "    labels = []\n",
    "    \n",
    "    for row in open(path):\n",
    "        row = row.split(',')\n",
    "        label = int(row[0])\n",
    "        image = np.array([int(x) for x in row[1:]], dtype=\"uint8\")\n",
    "        \n",
    "        #image = image.reshape((28, 28))\n",
    "        image = image.reshape((-1,))\n",
    "        \n",
    "        data.append(image)\n",
    "        labels.append(label)\n",
    "        \n",
    "    data = np.array(data, dtype=\"float32\")\n",
    "    labels = np.array(labels, dtype=\"int\")\n",
    "    \n",
    "    return data, labels\n",
    "\n",
    "alphabets, labels_alphabets = read_data(\"../inputs/A_Z Handwritten Data.csv\")\n",
    "labels_alphabets += 10\n",
    "\n",
    "digits, labels_digits = read_data(\"../inputs/mnist_train.csv\")\n",
    "\n",
    "# to combine alphabets and digits images\n",
    "data = np.vstack([alphabets, digits])\n",
    "labels = np.hstack([labels_alphabets, labels_digits])\n",
    "data /= 255.0"
   ]
  },
  {
   "cell_type": "code",
   "execution_count": 3,
   "id": "above-accident",
   "metadata": {},
   "outputs": [
    {
     "name": "stdout",
     "output_type": "stream",
     "text": [
      "(259470, 784)\n",
      "(172981, 784)\n"
     ]
    }
   ],
   "source": [
    "X_train, X_test, y_train, y_test = train_test_split(data, labels, test_size=0.4, random_state=0)\n",
    "print(X_train.shape)\n",
    "print(X_test.shape)"
   ]
  },
  {
   "cell_type": "code",
   "execution_count": 9,
   "id": "burning-communist",
   "metadata": {},
   "outputs": [
    {
     "data": {
      "text/plain": [
       "RandomForestClassifier(n_estimators=5)"
      ]
     },
     "execution_count": 9,
     "metadata": {},
     "output_type": "execute_result"
    }
   ],
   "source": [
    "from sklearn.ensemble import RandomForestClassifier  #Random Forest algorithm\n",
    "from sklearn.model_selection import train_test_split\n",
    "from sklearn.metrics import classification_report, confusion_matrix\n",
    "from sklearn.model_selection import RandomizedSearchCV, GridSearchCV \n",
    "from sklearn.model_selection import cross_val_score\n",
    "\n",
    "rf = RandomForestClassifier(n_estimators=5)\n",
    "rf.fit(X_train,y_train)"
   ]
  },
  {
   "cell_type": "code",
   "execution_count": 10,
   "id": "civil-literacy",
   "metadata": {},
   "outputs": [
    {
     "name": "stdout",
     "output_type": "stream",
     "text": [
      "Classification Report\n",
      "              precision    recall  f1-score   support\n",
      "\n",
      "           0       0.81      0.85      0.83      2398\n",
      "           1       0.90      0.97      0.93      2722\n",
      "           2       0.70      0.82      0.76      2363\n",
      "           3       0.73      0.81      0.76      2458\n",
      "           4       0.71      0.83      0.76      2337\n",
      "           5       0.74      0.68      0.71      2204\n",
      "           6       0.86      0.89      0.87      2335\n",
      "           7       0.88      0.88      0.88      2539\n",
      "           8       0.82      0.74      0.78      2399\n",
      "           9       0.84      0.81      0.83      2354\n",
      "          10       0.87      0.94      0.90      5564\n",
      "          11       0.85      0.83      0.84      3547\n",
      "          12       0.95      0.98      0.96      9355\n",
      "          13       0.89      0.87      0.88      4043\n",
      "          14       0.91      0.92      0.92      4532\n",
      "          15       0.96      0.85      0.90       473\n",
      "          16       0.91      0.84      0.87      2287\n",
      "          17       0.89      0.86      0.87      2906\n",
      "          18       0.97      0.86      0.91       470\n",
      "          19       0.93      0.90      0.91      3377\n",
      "          20       0.89      0.86      0.88      2174\n",
      "          21       0.97      0.97      0.97      4639\n",
      "          22       0.96      0.91      0.93      4899\n",
      "          23       0.93      0.94      0.94      7742\n",
      "          24       0.96      0.98      0.97     23259\n",
      "          25       0.96      0.97      0.97      7595\n",
      "          26       0.92      0.78      0.85      2386\n",
      "          27       0.94      0.86      0.90      4715\n",
      "          28       0.96      0.97      0.97     19127\n",
      "          29       0.98      0.98      0.98      8949\n",
      "          30       0.97      0.96      0.96     11571\n",
      "          31       0.97      0.95      0.96      1628\n",
      "          32       0.97      0.91      0.94      4353\n",
      "          33       0.97      0.89      0.93      2508\n",
      "          34       0.95      0.93      0.94      4350\n",
      "          35       0.94      0.88      0.91      2423\n",
      "\n",
      "    accuracy                           0.92    172981\n",
      "   macro avg       0.90      0.89      0.89    172981\n",
      "weighted avg       0.93      0.92      0.92    172981\n",
      "\n",
      "Confusion Report\n",
      "[[2046    2    7 ...    0    0    0]\n",
      " [   0 2648   13 ...    1   11    1]\n",
      " [  25   26 1931 ...    5    3   84]\n",
      " ...\n",
      " [   2   11   19 ... 2240   24    4]\n",
      " [   4   23    7 ...   13 4035    0]\n",
      " [   0    5   93 ...    4    4 2136]]\n"
     ]
    }
   ],
   "source": [
    "pred=rf.predict(X_test)\n",
    "print (\"Classification Report\")\n",
    "print(classification_report(y_test, pred))\n",
    "print (\"Confusion Report\")\n",
    "print(confusion_matrix(y_test, pred))"
   ]
  },
  {
   "cell_type": "code",
   "execution_count": 11,
   "id": "boring-antigua",
   "metadata": {},
   "outputs": [],
   "source": [
    "from sklearn.metrics import accuracy_score\n",
    "\n",
    "acc = accuracy_score(y_test, pred)"
   ]
  },
  {
   "cell_type": "code",
   "execution_count": 12,
   "id": "competitive-method",
   "metadata": {},
   "outputs": [
    {
     "name": "stdout",
     "output_type": "stream",
     "text": [
      "0.924153519750724\n"
     ]
    }
   ],
   "source": [
    "print(acc)"
   ]
  }
 ],
 "metadata": {
  "kernelspec": {
   "display_name": "Python 3",
   "language": "python",
   "name": "python3"
  },
  "language_info": {
   "codemirror_mode": {
    "name": "ipython",
    "version": 3
   },
   "file_extension": ".py",
   "mimetype": "text/x-python",
   "name": "python",
   "nbconvert_exporter": "python",
   "pygments_lexer": "ipython3",
   "version": "3.9.1"
  }
 },
 "nbformat": 4,
 "nbformat_minor": 5
}
